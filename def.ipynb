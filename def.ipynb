{
 "cells": [
  {
   "cell_type": "code",
   "execution_count": 1,
   "metadata": {
    "notebookRunGroups": {
     "groupValue": "21"
    }
   },
   "outputs": [
    {
     "name": "stdout",
     "output_type": "stream",
     "text": [
      "Lists are equal\n"
     ]
    }
   ],
   "source": [
    "def check_if_equal(list1, list2):\n",
    "    if len(list1) != len(list2):\n",
    "        return False\n",
    "    return sorted(list1) == sorted(list2)\n",
    "list1 = [1, 2, 3, 4, 5, 6, 7, 8]\n",
    "list2 = [8, 7, 6, 5, 4, 3, 2, 1]\n",
    "if check_if_equal(list1, list2):\n",
    "    print(\"Lists are equal\")\n",
    "else:\n",
    "    print(\"Lists are not equal\")"
   ]
  }
 ],
 "metadata": {
  "kernelspec": {
   "display_name": "Python 3",
   "language": "python",
   "name": "python3"
  },
  "language_info": {
   "codemirror_mode": {
    "name": "ipython",
    "version": 3
   },
   "file_extension": ".py",
   "mimetype": "text/x-python",
   "name": "python",
   "nbconvert_exporter": "python",
   "pygments_lexer": "ipython3",
   "version": "3.11.0"
  },
  "orig_nbformat": 4,
  "vscode": {
   "interpreter": {
    "hash": "9312891a863a0535ad28a12f961832b616d9de48459a2c4b2fe1ebc13188f7d6"
   }
  }
 },
 "nbformat": 4,
 "nbformat_minor": 2
}
